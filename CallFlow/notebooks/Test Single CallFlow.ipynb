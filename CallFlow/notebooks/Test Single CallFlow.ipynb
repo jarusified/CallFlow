{
 "cells": [
  {
   "cell_type": "code",
   "execution_count": 1,
   "metadata": {},
   "outputs": [],
   "source": [
    "# Global imports\n",
    "import hatchet as ht\n",
    "import pandas as pd\n",
    "import os"
   ]
  },
  {
   "cell_type": "code",
   "execution_count": 2,
   "metadata": {},
   "outputs": [],
   "source": [
    "# Local imports\n",
    "from CallFlow.single import SingleCallFlow\n",
    "from CallFlow.pipeline import ConfigFileReader"
   ]
  },
  {
   "cell_type": "code",
   "execution_count": 3,
   "metadata": {},
   "outputs": [],
   "source": [
    "pd.options.display.max_rows = 10\n",
    "pd.options.display.float_format = '{:,.2f}'.format"
   ]
  },
  {
   "cell_type": "markdown",
   "metadata": {},
   "source": [
    "# Set Environment Path"
   ]
  },
  {
   "cell_type": "code",
   "execution_count": 4,
   "metadata": {},
   "outputs": [],
   "source": [
    "path = os.getcwd().split('CallFlow')[0] + 'CallFlow'"
   ]
  },
  {
   "cell_type": "code",
   "execution_count": 5,
   "metadata": {},
   "outputs": [],
   "source": [
    "experiment = 'lulesh-8-runs'\n",
    "dataset = '1-core'\n",
    "configFileName = 'Lulesh-Scaling-3-runs.json'"
   ]
  },
  {
   "cell_type": "code",
   "execution_count": 6,
   "metadata": {},
   "outputs": [],
   "source": [
    "configPath = path + '/config_files' + '/' + configFileName\n",
    "dataPath = path + '/' + experiment\n",
    "dotPath = path + '/data/processed'\n",
    "experimentPath = dataPath + '/' + experiment\n",
    "experimentDotPath = dotPath + '/' + experiment"
   ]
  },
  {
   "cell_type": "markdown",
   "metadata": {},
   "source": [
    "# Read Config file"
   ]
  },
  {
   "cell_type": "code",
   "execution_count": 7,
   "metadata": {},
   "outputs": [],
   "source": [
    "config = ConfigFileReader(configPath)"
   ]
  },
  {
   "cell_type": "code",
   "execution_count": 8,
   "metadata": {},
   "outputs": [
    {
     "name": "stderr",
     "output_type": "stream",
     "text": [
      "\u001b[1m #  \u001b[32m#########################################\u001b[0m\n",
      "\u001b[1m #  \u001b[31mRun: 1-core\u001b[0m\n",
      "\u001b[1m #  \u001b[32m#########################################\u001b[0m\n",
      "\u001b[1m #  \u001b[32mCreating graphframes: 1-core\u001b[0m\n",
      "\u001b[1m #  \u001b[32mData path: /home/suraj/Work/llnl/CallFlow/data/lulesh-3-runs/1core.json\u001b[0m\n",
      "\u001b[1m #  \u001b[32mNumber of call sites in CCT (From dataframe): 29\u001b[0m\n",
      "\u001b[1m #  \u001b[31mCreate GraphFrame: 0.04011676786467433\u001b[0m\n",
      "\u001b[1m #  \u001b[32m-----------------------------------------\u001b[0m\n",
      "\u001b[1m #  \u001b[32mPreprocessing : add_time_columns\u001b[0m\n",
      "\u001b[1m #  \u001b[32mPreprocessing : add_rank_column\u001b[0m\n",
      "\u001b[1m #  \u001b[32mPreprocessing : add_callers_and_callees\u001b[0m\n",
      "\u001b[1m #  \u001b[32mPreprocessing : add_dataset_name\u001b[0m\n",
      "\u001b[1m #  \u001b[32mPreprocessing : add_imbalance_perc\u001b[0m\n",
      "/home/suraj/miniconda3/lib/python3.7/site-packages/numpy/core/_methods.py:217: RuntimeWarning: Degrees of freedom <= 0 for slice\n",
      "  keepdims=keepdims)\n",
      "/home/suraj/miniconda3/lib/python3.7/site-packages/numpy/core/_methods.py:209: RuntimeWarning: invalid value encountered in double_scalars\n",
      "  ret = ret.dtype.type(ret / rcount)\n",
      "\u001b[1m #  \u001b[32mPreprocessing : add_module_name_caliper\u001b[0m\n",
      "\u001b[1m #  \u001b[32mPreprocessing : create_name_module_map\u001b[0m\n",
      "\u001b[1m #  \u001b[32mPreprocessing : add_vis_node_name\u001b[0m\n",
      "\u001b[1m #  \u001b[32mPreprocessing : add_path\u001b[0m\n",
      "\u001b[1m #  \u001b[31m[Validation] Map contains: 29 callsites, graph contains: 29 callsites\u001b[0m\n",
      "\u001b[1m #  \u001b[31mModule: ['Lulesh' 'MPI' 'LeapFrog' 'CalcConstraint' 'CalcLagrange' 'CalcForce'\u001b[0m\n",
      "\u001b[1m #  \u001b[31m 'Timer']\u001b[0m\n",
      "\u001b[1m #  \u001b[31mPreprocess GraphFrame: 0.08317416999489069\u001b[0m\n",
      "\u001b[1m #  \u001b[32m-----------------------------------------\u001b[0m\n",
      "\u001b[1m #  \u001b[31mConvert to NetworkX graph: 0.0016013442073017359\u001b[0m\n",
      "\u001b[1m #  \u001b[32m-----------------------------------------\u001b[0m\n",
      "\u001b[1m #  \u001b[31mGroup GraphFrame: 0.006461026845499873\u001b[0m\n",
      "\u001b[1m #  \u001b[32m-----------------------------------------\u001b[0m\n",
      "\u001b[1m #  \u001b[31mWrite GraphFrame: 0.004366687033325434\u001b[0m\n",
      "\u001b[1m #  \u001b[32m-----------------------------------------\u001b[0m\n",
      "\u001b[1m #  \u001b[32mModule: ['Lulesh' 'MPI' 'LeapFrog' 'CalcConstraint' 'CalcLagrange' 'CalcForce'\u001b[0m\n",
      "\u001b[1m #  \u001b[32m 'Timer']\u001b[0m\n",
      "\u001b[1m #  \u001b[32m#########################################\u001b[0m\n",
      "\u001b[1m #  \u001b[31mRun: 27-cores\u001b[0m\n",
      "\u001b[1m #  \u001b[32m#########################################\u001b[0m\n",
      "\u001b[1m #  \u001b[32mCreating graphframes: 27-cores\u001b[0m\n",
      "\u001b[1m #  \u001b[32mData path: /home/suraj/Work/llnl/CallFlow/data/lulesh-3-runs/27cores.json\u001b[0m\n",
      "\u001b[1m #  \u001b[32mNumber of call sites in CCT (From dataframe): 33\u001b[0m\n",
      "\u001b[1m #  \u001b[31mCreate GraphFrame: 0.05910899699665606\u001b[0m\n",
      "\u001b[1m #  \u001b[32m-----------------------------------------\u001b[0m\n",
      "\u001b[1m #  \u001b[32mPreprocessing : add_time_columns\u001b[0m\n",
      "\u001b[1m #  \u001b[32mPreprocessing : add_rank_column\u001b[0m\n",
      "\u001b[1m #  \u001b[32mPreprocessing : add_callers_and_callees\u001b[0m\n",
      "\u001b[1m #  \u001b[32mPreprocessing : add_dataset_name\u001b[0m\n",
      "\u001b[1m #  \u001b[32mPreprocessing : add_imbalance_perc\u001b[0m\n",
      "\u001b[1m #  \u001b[32mPreprocessing : add_module_name_caliper\u001b[0m\n",
      "\u001b[1m #  \u001b[32mPreprocessing : create_name_module_map\u001b[0m\n",
      "\u001b[1m #  \u001b[32mPreprocessing : add_vis_node_name\u001b[0m\n",
      "\u001b[1m #  \u001b[32mPreprocessing : add_path\u001b[0m\n",
      "\u001b[1m #  \u001b[31m[Validation] Map contains: 33 callsites, graph contains: 33 callsites\u001b[0m\n",
      "\u001b[1m #  \u001b[31mModule: ['Lulesh' 'MPI' 'LeapFrog' 'CalcConstraint' 'CalcLagrange' 'CalcForce'\u001b[0m\n",
      "\u001b[1m #  \u001b[31m 'Timer']\u001b[0m\n",
      "\u001b[1m #  \u001b[31mPreprocess GraphFrame: 0.09373788512311876\u001b[0m\n",
      "\u001b[1m #  \u001b[32m-----------------------------------------\u001b[0m\n",
      "\u001b[1m #  \u001b[31mConvert to NetworkX graph: 0.0014217488933354616\u001b[0m\n",
      "\u001b[1m #  \u001b[32m-----------------------------------------\u001b[0m\n",
      "\u001b[1m #  \u001b[31mGroup GraphFrame: 0.009680672083050013\u001b[0m\n",
      "\u001b[1m #  \u001b[32m-----------------------------------------\u001b[0m\n",
      "\u001b[1m #  \u001b[31mWrite GraphFrame: 0.03405261901207268\u001b[0m\n",
      "\u001b[1m #  \u001b[32m-----------------------------------------\u001b[0m\n",
      "\u001b[1m #  \u001b[32mModule: ['Lulesh' 'MPI' 'LeapFrog' 'CalcConstraint' 'CalcLagrange' 'CalcForce'\u001b[0m\n",
      "\u001b[1m #  \u001b[32m 'Timer']\u001b[0m\n",
      "\u001b[1m #  \u001b[32m#########################################\u001b[0m\n",
      "\u001b[1m #  \u001b[31mRun: 64-cores\u001b[0m\n",
      "\u001b[1m #  \u001b[32m#########################################\u001b[0m\n",
      "\u001b[1m #  \u001b[32mCreating graphframes: 64-cores\u001b[0m\n",
      "\u001b[1m #  \u001b[32mData path: /home/suraj/Work/llnl/CallFlow/data/lulesh-3-runs/64cores.json\u001b[0m\n",
      "\u001b[1m #  \u001b[32mNumber of call sites in CCT (From dataframe): 33\u001b[0m\n",
      "\u001b[1m #  \u001b[31mCreate GraphFrame: 0.06221419502981007\u001b[0m\n",
      "\u001b[1m #  \u001b[32m-----------------------------------------\u001b[0m\n",
      "\u001b[1m #  \u001b[32mPreprocessing : add_time_columns\u001b[0m\n",
      "\u001b[1m #  \u001b[32mPreprocessing : add_rank_column\u001b[0m\n",
      "\u001b[1m #  \u001b[32mPreprocessing : add_callers_and_callees\u001b[0m\n",
      "\u001b[1m #  \u001b[32mPreprocessing : add_dataset_name\u001b[0m\n",
      "\u001b[1m #  \u001b[32mPreprocessing : add_imbalance_perc\u001b[0m\n",
      "\u001b[1m #  \u001b[32mPreprocessing : add_module_name_caliper\u001b[0m\n",
      "\u001b[1m #  \u001b[32mPreprocessing : create_name_module_map\u001b[0m\n",
      "\u001b[1m #  \u001b[32mPreprocessing : add_vis_node_name\u001b[0m\n",
      "\u001b[1m #  \u001b[32mPreprocessing : add_path\u001b[0m\n",
      "\u001b[1m #  \u001b[31m[Validation] Map contains: 33 callsites, graph contains: 33 callsites\u001b[0m\n",
      "\u001b[1m #  \u001b[31mModule: ['Lulesh' 'MPI' 'LeapFrog' 'CalcConstraint' 'CalcLagrange' 'CalcForce'\u001b[0m\n",
      "\u001b[1m #  \u001b[31m 'Timer']\u001b[0m\n",
      "\u001b[1m #  \u001b[31mPreprocess GraphFrame: 0.1134105350356549\u001b[0m\n",
      "\u001b[1m #  \u001b[32m-----------------------------------------\u001b[0m\n",
      "\u001b[1m #  \u001b[31mConvert to NetworkX graph: 0.002591528929769993\u001b[0m\n",
      "\u001b[1m #  \u001b[32m-----------------------------------------\u001b[0m\n",
      "\u001b[1m #  \u001b[31mGroup GraphFrame: 0.01765788486227393\u001b[0m\n",
      "\u001b[1m #  \u001b[32m-----------------------------------------\u001b[0m\n",
      "\u001b[1m #  \u001b[31mWrite GraphFrame: 0.06355856917798519\u001b[0m\n",
      "\u001b[1m #  \u001b[32m-----------------------------------------\u001b[0m\n",
      "\u001b[1m #  \u001b[32mModule: ['Lulesh' 'MPI' 'LeapFrog' 'CalcConstraint' 'CalcLagrange' 'CalcForce'\u001b[0m\n",
      "\u001b[1m #  \u001b[32m 'Timer']\u001b[0m\n"
     ]
    }
   ],
   "source": [
    "callflow = SingleCallFlow(config=config, process=True)"
   ]
  }
 ],
 "metadata": {
  "kernelspec": {
   "display_name": "Python 3",
   "language": "python",
   "name": "python3"
  },
  "language_info": {
   "codemirror_mode": {
    "name": "ipython",
    "version": 3
   },
   "file_extension": ".py",
   "mimetype": "text/x-python",
   "name": "python",
   "nbconvert_exporter": "python",
   "pygments_lexer": "ipython3",
   "version": "3.7.4"
  }
 },
 "nbformat": 4,
 "nbformat_minor": 2
}
